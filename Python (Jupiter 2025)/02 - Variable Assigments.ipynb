#1. Names can not start with a number.
#2. There can be no spaces in the name, use _ instead.
#3. Can't use any of these symbols :'",<>/?|\()!@#$%^&*~-+
#4. It's considered best practice (PEP8) that names are lowercase.
#5. Avoid using the characters 'l' (lowercase letter el), 'O' (uppercase letter oh), or 'I' (uppercase letter eye) as single character variable names.
#6. Avoid using words that have special meaning in Python like "list" and "str"


{
 "cells": [
  {
   "cell_type": "code",
   "execution_count": 1,
   "id": "67f8417e-7b2c-4161-b511-f08574f07f86",
   "metadata": {},
   "outputs": [],
   "source": [
    "#Variable Assigments"
   ]
  },
  {
   "cell_type": "code",
   "execution_count": 2,
   "id": "e7cd5637-115d-4db5-8b7b-3f4148039f4c",
   "metadata": {},
   "outputs": [],
   "source": [
    "#Creating object called \"Computer\" + Number assigment (5)\n",
    "computer = 5 "
   ]
  },
  {
   "cell_type": "code",
   "execution_count": 3,
   "id": "48e1b2f7-c9d6-48a1-a8f1-626985d2f473",
   "metadata": {},
   "outputs": [
    {
     "data": {
      "text/plain": [
       "10"
      ]
     },
     "execution_count": 3,
     "metadata": {},
     "output_type": "execute_result"
    }
   ],
   "source": [
    "#Adding the Objects\n",
    "computer+computer"
   ]
  },
  {
   "cell_type": "code",
   "execution_count": 4,
   "id": "deff8baf-492f-4820-ba0a-2a33bdc849d6",
   "metadata": {},
   "outputs": [],
   "source": [
    "#Reassigment\n",
    "computer = 12"
   ]
  },
  {
   "cell_type": "code",
   "execution_count": 5,
   "id": "ba67b8b8-4a48-45c6-bfc9-7b8d39119bf2",
   "metadata": {},
   "outputs": [
    {
     "data": {
      "text/plain": [
       "12"
      ]
     },
     "execution_count": 5,
     "metadata": {},
     "output_type": "execute_result"
    }
   ],
   "source": [
    "#Checking\n",
    "computer"
   ]
  },
  {
   "cell_type": "code",
   "execution_count": null,
   "id": "b981b207-f4f4-4a42-b512-9b2e49a7d752",
   "metadata": {},
   "outputs": [],
   "source": []
  }
 ],
 "metadata": {
  "kernelspec": {
   "display_name": "Python [conda env:base] *",
   "language": "python",
   "name": "conda-base-py"
  },
  "language_info": {
   "codemirror_mode": {
    "name": "ipython",
    "version": 3
   },
   "file_extension": ".py",
   "mimetype": "text/x-python",
   "name": "python",
   "nbconvert_exporter": "python",
   "pygments_lexer": "ipython3",
   "version": "3.13.5"
  }
 },
 "nbformat": 4,
 "nbformat_minor": 5
}
