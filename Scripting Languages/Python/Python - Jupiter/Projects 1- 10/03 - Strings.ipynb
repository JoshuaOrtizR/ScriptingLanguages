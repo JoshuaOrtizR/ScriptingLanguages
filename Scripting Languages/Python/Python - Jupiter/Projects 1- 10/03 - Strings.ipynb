{
 "cells": [
  {
   "cell_type": "code",
   "execution_count": 1,
   "id": "39e53636-c316-4dde-8701-8b4fbfb9d118",
   "metadata": {},
   "outputs": [],
   "source": [
    "# Creating Strings"
   ]
  },
  {
   "cell_type": "code",
   "execution_count": 2,
   "id": "ae832e17-f7df-4ff1-955d-3d107ea1740c",
   "metadata": {},
   "outputs": [
    {
     "data": {
      "text/plain": [
       "'Cybersecurity'"
      ]
     },
     "execution_count": 2,
     "metadata": {},
     "output_type": "execute_result"
    }
   ],
   "source": [
    "'Cybersecurity'"
   ]
  },
  {
   "cell_type": "code",
   "execution_count": 3,
   "id": "559da9df-074a-4ca8-905b-d54bb4037abb",
   "metadata": {},
   "outputs": [
    {
     "data": {
      "text/plain": [
       "'Cyber Testing'"
      ]
     },
     "execution_count": 3,
     "metadata": {},
     "output_type": "execute_result"
    }
   ],
   "source": [
    "#Entire Phrase\n",
    "'Cyber Testing'"
   ]
  },
  {
   "cell_type": "code",
   "execution_count": 4,
   "id": "a5aea2d5-65fc-4057-890b-14c64d5fce94",
   "metadata": {},
   "outputs": [
    {
     "data": {
      "text/plain": [
       "\"I'm a Cybersecurity Engineer!\""
      ]
     },
     "execution_count": 4,
     "metadata": {},
     "output_type": "execute_result"
    }
   ],
   "source": [
    "#Using double quotes inside a String\n",
    "\"I'm a Cybersecurity Engineer!\""
   ]
  },
  {
   "cell_type": "code",
   "execution_count": 6,
   "id": "c0cb585a-b9f8-43f0-9b9b-71db7957ad16",
   "metadata": {},
   "outputs": [
    {
     "name": "stdout",
     "output_type": "stream",
     "text": [
      "Cybersecurity 1\n",
      "Cybersecurity 2\n",
      "Use \n",
      " to print a new line\n",
      "\n",
      "\n",
      "IT Support Engineer\n"
     ]
    }
   ],
   "source": [
    "#Print Statement to Print a String\n",
    "print('Cybersecurity 1')\n",
    "print('Cybersecurity 2')\n",
    "print('Use \\n to print a new line')\n",
    "print('\\n')\n",
    "print('IT Support Engineer')"
   ]
  },
  {
   "cell_type": "code",
   "execution_count": 11,
   "id": "0702abac-d901-468e-ad6a-944142918bef",
   "metadata": {},
   "outputs": [
    {
     "data": {
      "text/plain": [
       "32"
      ]
     },
     "execution_count": 11,
     "metadata": {},
     "output_type": "execute_result"
    }
   ],
   "source": [
    "#We can also use a function called len() to check the length of a string\n",
    "len('OOP: Object-Oriented Programming')\n",
    "\n",
    "#Python's built-in len() function counts all of the characters in the string, including spaces and punctuation."
   ]
  },
  {
   "cell_type": "code",
   "execution_count": 21,
   "id": "b20b1895-1b27-46d5-a106-d699d8619729",
   "metadata": {},
   "outputs": [],
   "source": [
    "#String Indexing\n",
    "j = 'Programming'"
   ]
  },
  {
   "cell_type": "code",
   "execution_count": 22,
   "id": "c88bccb8-97db-429b-b5e1-9caa781476ba",
   "metadata": {},
   "outputs": [
    {
     "data": {
      "text/plain": [
       "'Programming'"
      ]
     },
     "execution_count": 22,
     "metadata": {},
     "output_type": "execute_result"
    }
   ],
   "source": [
    "j"
   ]
  },
  {
   "cell_type": "code",
   "execution_count": 23,
   "id": "7f82e02e-9e99-44cc-b739-91e8cbab7107",
   "metadata": {},
   "outputs": [
    {
     "name": "stdout",
     "output_type": "stream",
     "text": [
      "Programming\n"
     ]
    }
   ],
   "source": [
    "print(j)"
   ]
  },
  {
   "cell_type": "code",
   "execution_count": 24,
   "id": "b7d95f25-253e-4f65-af64-ca406c0a4a36",
   "metadata": {},
   "outputs": [
    {
     "data": {
      "text/plain": [
       "'r'"
      ]
     },
     "execution_count": 24,
     "metadata": {},
     "output_type": "execute_result"
    }
   ],
   "source": [
    "# Show second element (in this case a letter)\n",
    "j[1]"
   ]
  },
  {
   "cell_type": "code",
   "execution_count": 26,
   "id": "f7726b2e-c7c8-4623-9108-2547498a069a",
   "metadata": {},
   "outputs": [
    {
     "data": {
      "text/plain": [
       "'Progra'"
      ]
     },
     "execution_count": 26,
     "metadata": {},
     "output_type": "execute_result"
    }
   ],
   "source": [
    "#We can use a : to perform slicing which grabs everything up to a designated point.\n",
    "j[:6]"
   ]
  },
  {
   "cell_type": "code",
   "execution_count": 27,
   "id": "c06b06e0-2688-4a9b-a90b-06630b7df800",
   "metadata": {},
   "outputs": [
    {
     "data": {
      "text/plain": [
       "'Programming'"
      ]
     },
     "execution_count": 27,
     "metadata": {},
     "output_type": "execute_result"
    }
   ],
   "source": [
    "#Everything\n",
    "j[:]"
   ]
  },
  {
   "cell_type": "code",
   "execution_count": 28,
   "id": "381248d1-72f6-4bc9-b8e3-2a52443868cc",
   "metadata": {},
   "outputs": [
    {
     "data": {
      "text/plain": [
       "'Programmin'"
      ]
     },
     "execution_count": 28,
     "metadata": {},
     "output_type": "execute_result"
    }
   ],
   "source": [
    "#Negative Indexing\n",
    "j[:-1]"
   ]
  },
  {
   "cell_type": "code",
   "execution_count": 32,
   "id": "faf97545-75c7-4fd5-a09f-0a8b33d88af6",
   "metadata": {},
   "outputs": [
    {
     "data": {
      "text/plain": [
       "'Programming'"
      ]
     },
     "execution_count": 32,
     "metadata": {},
     "output_type": "execute_result"
    }
   ],
   "source": [
    "# Grab everything, but go in steps size of 1\n",
    "j[::1]"
   ]
  },
  {
   "cell_type": "code",
   "execution_count": 31,
   "id": "67554fe9-a78c-4df8-a28a-9985598f4f81",
   "metadata": {},
   "outputs": [
    {
     "data": {
      "text/plain": [
       "'Pri'"
      ]
     },
     "execution_count": 31,
     "metadata": {},
     "output_type": "execute_result"
    }
   ],
   "source": [
    "# Grab everything, but go in step sizes of 2\n",
    "j[::4]"
   ]
  },
  {
   "cell_type": "code",
   "execution_count": 34,
   "id": "9a6abd31-f990-4013-9f93-d5d9bc04aaa1",
   "metadata": {},
   "outputs": [
    {
     "data": {
      "text/plain": [
       "'gnimmargorP'"
      ]
     },
     "execution_count": 34,
     "metadata": {},
     "output_type": "execute_result"
    }
   ],
   "source": [
    "# We can use this to print a string backwards\n",
    "j[::-1]"
   ]
  },
  {
   "cell_type": "code",
   "execution_count": null,
   "id": "25a4119b-7338-4b0a-8929-0e4d43e73906",
   "metadata": {},
   "outputs": [],
   "source": [
    "'''\n",
    "String Properties\n",
    "Immutability: once a string is created, the elements within it can not be changed or replaced.\n",
    "'''"
   ]
  },
  {
   "cell_type": "code",
   "execution_count": 35,
   "id": "bbce63ec-9b05-4528-a67c-7ecce0b4d1e1",
   "metadata": {},
   "outputs": [
    {
     "data": {
      "text/plain": [
       "'Programming'"
      ]
     },
     "execution_count": 35,
     "metadata": {},
     "output_type": "execute_result"
    }
   ],
   "source": [
    "j"
   ]
  },
  {
   "cell_type": "code",
   "execution_count": 39,
   "id": "304ae385-b9b9-4df9-98d8-fcc199e127c0",
   "metadata": {},
   "outputs": [
    {
     "data": {
      "text/plain": [
       "'Programming in Python! '"
      ]
     },
     "execution_count": 39,
     "metadata": {},
     "output_type": "execute_result"
    }
   ],
   "source": [
    "#Concatenate Strings\n",
    "j + ' in Python! '"
   ]
  },
  {
   "cell_type": "code",
   "execution_count": 41,
   "id": "95ce9ca3-6a5b-44a5-a93f-6aea6af45d38",
   "metadata": {},
   "outputs": [],
   "source": [
    "#Using multiplication symbol to create repetition!\n",
    "Device = \"T\""
   ]
  },
  {
   "cell_type": "code",
   "execution_count": 42,
   "id": "2b05760f-54eb-432f-a7c0-e3619f2b089a",
   "metadata": {},
   "outputs": [
    {
     "data": {
      "text/plain": [
       "'TTTTTTTTTTTTTTT'"
      ]
     },
     "execution_count": 42,
     "metadata": {},
     "output_type": "execute_result"
    }
   ],
   "source": [
    "Device*15"
   ]
  },
  {
   "cell_type": "code",
   "execution_count": 43,
   "id": "0fd4ecc8-d204-4193-908a-57317837286f",
   "metadata": {},
   "outputs": [
    {
     "data": {
      "text/plain": [
       "'Programming'"
      ]
     },
     "execution_count": 43,
     "metadata": {},
     "output_type": "execute_result"
    }
   ],
   "source": [
    "#Built-in String methods\n",
    "j"
   ]
  },
  {
   "cell_type": "code",
   "execution_count": 44,
   "id": "c4235a78-3e09-47e6-8971-d003473b5f6a",
   "metadata": {},
   "outputs": [
    {
     "data": {
      "text/plain": [
       "'PROGRAMMING'"
      ]
     },
     "execution_count": 44,
     "metadata": {},
     "output_type": "execute_result"
    }
   ],
   "source": [
    "#Upper case a String\n",
    "j.upper()"
   ]
  },
  {
   "cell_type": "code",
   "execution_count": 45,
   "id": "b6fdc63d-c693-4131-ae61-d2bb08042bc0",
   "metadata": {},
   "outputs": [
    {
     "data": {
      "text/plain": [
       "'programming'"
      ]
     },
     "execution_count": 45,
     "metadata": {},
     "output_type": "execute_result"
    }
   ],
   "source": [
    "#Lower case a String\n",
    "j.lower()"
   ]
  },
  {
   "cell_type": "code",
   "execution_count": 49,
   "id": "5eb4a73b-099b-4030-b11d-1fede7b092b1",
   "metadata": {},
   "outputs": [],
   "source": [
    "j = \"I'm using Jupiter\""
   ]
  },
  {
   "cell_type": "code",
   "execution_count": 50,
   "id": "e74f39d4-bfc2-48f9-a8a4-fc5bc334a640",
   "metadata": {},
   "outputs": [
    {
     "data": {
      "text/plain": [
       "[\"I'm\", 'using', 'Jupiter']"
      ]
     },
     "execution_count": 50,
     "metadata": {},
     "output_type": "execute_result"
    }
   ],
   "source": [
    "# Split a string by blank space (this is the default)\n",
    "j.split()"
   ]
  },
  {
   "cell_type": "code",
   "execution_count": 52,
   "id": "0a752959-f658-4d9d-a465-20e5b7ac252a",
   "metadata": {},
   "outputs": [
    {
     "data": {
      "text/plain": [
       "[\"I'm using Ju\", '']"
      ]
     },
     "execution_count": 52,
     "metadata": {},
     "output_type": "execute_result"
    }
   ],
   "source": [
    "# Split by a specific element (doesn't include the element that was split on)\n",
    "j.split('piter')"
   ]
  },
  {
   "cell_type": "code",
   "execution_count": 57,
   "id": "60c7176c-b7f3-4d5c-b575-3bcc93ee6f4b",
   "metadata": {},
   "outputs": [
    {
     "data": {
      "text/plain": [
       "'Print Formatting: Object-Oriented Programming'"
      ]
     },
     "execution_count": 57,
     "metadata": {},
     "output_type": "execute_result"
    }
   ],
   "source": [
    "#Print Formatting\n",
    "#We can use the .format() method to add formatted objects to printed string statements.\n",
    "'Print Formatting: {}'.format('Object-Oriented Programming')"
   ]
  },
  {
   "cell_type": "code",
   "execution_count": null,
   "id": "b4f251ab-579f-4273-9fad-64e1856f8082",
   "metadata": {},
   "outputs": [],
   "source": []
  }
 ],
 "metadata": {
  "kernelspec": {
   "display_name": "Python [conda env:base] *",
   "language": "python",
   "name": "conda-base-py"
  },
  "language_info": {
   "codemirror_mode": {
    "name": "ipython",
    "version": 3
   },
   "file_extension": ".py",
   "mimetype": "text/x-python",
   "name": "python",
   "nbconvert_exporter": "python",
   "pygments_lexer": "ipython3",
   "version": "3.13.5"
  }
 },
 "nbformat": 4,
 "nbformat_minor": 5
}
