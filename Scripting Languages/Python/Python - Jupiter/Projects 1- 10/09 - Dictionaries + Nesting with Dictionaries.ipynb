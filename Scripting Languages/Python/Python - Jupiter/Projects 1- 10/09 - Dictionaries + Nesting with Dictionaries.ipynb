{
 "cells": [
  {
   "cell_type": "code",
   "execution_count": 1,
   "id": "48719027-fad8-4c69-9b64-56db8723e297",
   "metadata": {},
   "outputs": [],
   "source": [
    "#Constructing a Dictionary"
   ]
  },
  {
   "cell_type": "code",
   "execution_count": 8,
   "id": "d2f5edf0-e33e-4c01-9853-c94f6584e71a",
   "metadata": {},
   "outputs": [],
   "source": [
    "# Make a dictionary with {} and : to signify a key and a value\n",
    "my_dict = {'Joshua':'Age','Male':'Computer'}"
   ]
  },
  {
   "cell_type": "code",
   "execution_count": 10,
   "id": "d2efb3ee-cde7-4085-adb2-63467c74dc9e",
   "metadata": {},
   "outputs": [
    {
     "data": {
      "text/plain": [
       "'Age'"
      ]
     },
     "execution_count": 10,
     "metadata": {},
     "output_type": "execute_result"
    }
   ],
   "source": [
    "# Call values by their key\n",
    "my_dict['Joshua']"
   ]
  },
  {
   "cell_type": "code",
   "execution_count": 15,
   "id": "d434271e-fee5-43ce-aad0-eea1d2e8811b",
   "metadata": {},
   "outputs": [],
   "source": [
    "#dictionaries are very flexible in the data types they can hold.\n",
    "my_dict = {'key1':123,'key2':[12,23,33],'key3':['device0','device1','device2']}"
   ]
  },
  {
   "cell_type": "code",
   "execution_count": 16,
   "id": "b381baae-b1bf-4788-bd3f-d88f43e0cb1f",
   "metadata": {},
   "outputs": [
    {
     "data": {
      "text/plain": [
       "['device0', 'device1', 'device2']"
      ]
     },
     "execution_count": 16,
     "metadata": {},
     "output_type": "execute_result"
    }
   ],
   "source": [
    "# Calling items from the dictionary\n",
    "my_dict['key3']"
   ]
  },
  {
   "cell_type": "code",
   "execution_count": 17,
   "id": "792c36ea-3703-4328-9f89-d9b022cb7832",
   "metadata": {},
   "outputs": [
    {
     "data": {
      "text/plain": [
       "'device0'"
      ]
     },
     "execution_count": 17,
     "metadata": {},
     "output_type": "execute_result"
    }
   ],
   "source": [
    "# Calling an index on that value\n",
    "my_dict['key3'][0]"
   ]
  },
  {
   "cell_type": "code",
   "execution_count": 18,
   "id": "92705be5-e6ba-4b6c-8511-3c78f4dc6f5c",
   "metadata": {},
   "outputs": [
    {
     "data": {
      "text/plain": [
       "'DEVICE0'"
      ]
     },
     "execution_count": 18,
     "metadata": {},
     "output_type": "execute_result"
    }
   ],
   "source": [
    "# Calling methods on that value\n",
    "my_dict['key3'][0].upper()"
   ]
  },
  {
   "cell_type": "code",
   "execution_count": null,
   "id": "a420ed41-fc32-4c29-9e62-8e824f629cb6",
   "metadata": {},
   "outputs": [],
   "source": [
    "#Nesting with Dictionaries"
   ]
  },
  {
   "cell_type": "code",
   "execution_count": 19,
   "id": "4d4d0827-43cf-4b47-acff-e5c8e65e9171",
   "metadata": {},
   "outputs": [],
   "source": [
    "# Dictionary nested inside a dictionary nested inside a dictionary\n",
    "d = {'key1':{'nestkey':{'subnestkey':'value'}}}"
   ]
  },
  {
   "cell_type": "code",
   "execution_count": 20,
   "id": "3dc9b7c8-c575-4a43-a6b7-40e866c0b7b8",
   "metadata": {},
   "outputs": [
    {
     "data": {
      "text/plain": [
       "'value'"
      ]
     },
     "execution_count": 20,
     "metadata": {},
     "output_type": "execute_result"
    }
   ],
   "source": [
    "# Keep calling the keys\n",
    "d['key1']['nestkey']['subnestkey']"
   ]
  },
  {
   "cell_type": "code",
   "execution_count": null,
   "id": "d0effeb2-19dc-4ac7-8be2-88656c61de6d",
   "metadata": {},
   "outputs": [],
   "source": [
    "#Dictionary Methods"
   ]
  },
  {
   "cell_type": "code",
   "execution_count": null,
   "id": "ba3d9834-779d-4cd7-b7ab-201f01100304",
   "metadata": {},
   "outputs": [],
   "source": [
    "# Normal dictionary\n",
    "d = {'key1':1,'key2':2,'key3':3}"
   ]
  },
  {
   "cell_type": "code",
   "execution_count": null,
   "id": "068a801c-0251-4dc9-ad03-38e13e609355",
   "metadata": {},
   "outputs": [],
   "source": [
    "# Method to return a list of all keys \n",
    "d.keys()"
   ]
  },
  {
   "cell_type": "code",
   "execution_count": 21,
   "id": "a39cd3d7-6850-4518-9077-442251b38ce2",
   "metadata": {},
   "outputs": [
    {
     "data": {
      "text/plain": [
       "dict_values([{'nestkey': {'subnestkey': 'value'}}])"
      ]
     },
     "execution_count": 21,
     "metadata": {},
     "output_type": "execute_result"
    }
   ],
   "source": [
    "# Method to grab all values\n",
    "d.values()"
   ]
  },
  {
   "cell_type": "code",
   "execution_count": 22,
   "id": "9dbbc780-7e3f-4185-8e3b-96f9d1c7204d",
   "metadata": {},
   "outputs": [
    {
     "data": {
      "text/plain": [
       "dict_items([('key1', {'nestkey': {'subnestkey': 'value'}})])"
      ]
     },
     "execution_count": 22,
     "metadata": {},
     "output_type": "execute_result"
    }
   ],
   "source": [
    "# Method to return tuples of all items  (we'll learn about tuples soon)\n",
    "d.items()"
   ]
  },
  {
   "cell_type": "code",
   "execution_count": null,
   "id": "f4686123-9d25-4c41-9de8-474528af03c0",
   "metadata": {},
   "outputs": [],
   "source": []
  }
 ],
 "metadata": {
  "kernelspec": {
   "display_name": "Python [conda env:base] *",
   "language": "python",
   "name": "conda-base-py"
  },
  "language_info": {
   "codemirror_mode": {
    "name": "ipython",
    "version": 3
   },
   "file_extension": ".py",
   "mimetype": "text/x-python",
   "name": "python",
   "nbconvert_exporter": "python",
   "pygments_lexer": "ipython3",
   "version": "3.13.5"
  }
 },
 "nbformat": 4,
 "nbformat_minor": 5
}
