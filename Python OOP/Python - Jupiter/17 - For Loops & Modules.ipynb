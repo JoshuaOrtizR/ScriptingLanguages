{
 "cells": [
  {
   "cell_type": "code",
   "execution_count": 1,
   "id": "02ef0e93-b3aa-46aa-8223-119176cc0d35",
   "metadata": {},
   "outputs": [],
   "source": [
    "#for Loops"
   ]
  },
  {
   "cell_type": "code",
   "execution_count": 2,
   "id": "4081e197-ea45-4ef9-9fe6-26e742d381ac",
   "metadata": {},
   "outputs": [],
   "source": [
    "# Creating a list\n",
    "list1 = [1,2,3,4,5,6,7,8,9,10]"
   ]
  },
  {
   "cell_type": "code",
   "execution_count": 3,
   "id": "984ec382-6ea7-431c-a60d-448a43fe8a6e",
   "metadata": {},
   "outputs": [
    {
     "name": "stdout",
     "output_type": "stream",
     "text": [
      "1\n",
      "2\n",
      "3\n",
      "4\n",
      "5\n",
      "6\n",
      "7\n",
      "8\n",
      "9\n",
      "10\n"
     ]
    }
   ],
   "source": [
    "for num in list1:\n",
    "    print(num)"
   ]
  },
  {
   "cell_type": "code",
   "execution_count": 4,
   "id": "a51a7740-65b6-4c07-bf17-34c3904af74b",
   "metadata": {},
   "outputs": [
    {
     "data": {
      "text/plain": [
       "2"
      ]
     },
     "execution_count": 4,
     "metadata": {},
     "output_type": "execute_result"
    }
   ],
   "source": [
    "#Modulo\n",
    "17 % 5"
   ]
  },
  {
   "cell_type": "code",
   "execution_count": 5,
   "id": "78eb7ef1-2d7f-480e-8bfc-f28a7a1f0a63",
   "metadata": {},
   "outputs": [
    {
     "data": {
      "text/plain": [
       "1"
      ]
     },
     "execution_count": 5,
     "metadata": {},
     "output_type": "execute_result"
    }
   ],
   "source": [
    "# 3 Remainder 1\n",
    "10 % 3"
   ]
  },
  {
   "cell_type": "code",
   "execution_count": 6,
   "id": "4e95f6d6-6134-49ca-a35d-48691cc16147",
   "metadata": {},
   "outputs": [
    {
     "data": {
      "text/plain": [
       "4"
      ]
     },
     "execution_count": 6,
     "metadata": {},
     "output_type": "execute_result"
    }
   ],
   "source": [
    "# 2 Remainder 4\n",
    "18 % 7"
   ]
  },
  {
   "cell_type": "code",
   "execution_count": 7,
   "id": "e2613a1a-18c1-49fd-b1f8-d0189f26f9bb",
   "metadata": {},
   "outputs": [
    {
     "data": {
      "text/plain": [
       "0"
      ]
     },
     "execution_count": 7,
     "metadata": {},
     "output_type": "execute_result"
    }
   ],
   "source": [
    "# 2 no remainder\n",
    "4 % 2"
   ]
  },
  {
   "cell_type": "code",
   "execution_count": 8,
   "id": "f23e54c5-685c-4e0e-b218-e27a8965b5a4",
   "metadata": {},
   "outputs": [
    {
     "name": "stdout",
     "output_type": "stream",
     "text": [
      "2\n",
      "4\n",
      "6\n",
      "8\n",
      "10\n"
     ]
    }
   ],
   "source": [
    "for num in list1:\n",
    "    if num % 2 == 0:\n",
    "        print(num)"
   ]
  },
  {
   "cell_type": "code",
   "execution_count": 9,
   "id": "b985af04-714d-48f5-9768-fda7c364744f",
   "metadata": {},
   "outputs": [
    {
     "name": "stdout",
     "output_type": "stream",
     "text": [
      "Odd number\n",
      "2\n",
      "Odd number\n",
      "4\n",
      "Odd number\n",
      "6\n",
      "Odd number\n",
      "8\n",
      "Odd number\n",
      "10\n"
     ]
    }
   ],
   "source": [
    "for num in list1:\n",
    "    if num % 2 == 0:\n",
    "        print(num)\n",
    "    else:\n",
    "        print('Odd number')"
   ]
  },
  {
   "cell_type": "code",
   "execution_count": 10,
   "id": "2c4e47bd-c14f-4a25-8974-bb3b249184f9",
   "metadata": {},
   "outputs": [],
   "source": [
    "#-------------------------------"
   ]
  },
  {
   "cell_type": "code",
   "execution_count": 11,
   "id": "ea17acf7-fd03-4b40-a32e-5ee322093844",
   "metadata": {},
   "outputs": [
    {
     "name": "stdout",
     "output_type": "stream",
     "text": [
      "55\n"
     ]
    }
   ],
   "source": [
    "# Start sum at zero\n",
    "list_sum = 0 \n",
    "\n",
    "for num in list1:\n",
    "    list_sum = list_sum + num\n",
    "\n",
    "print(list_sum)"
   ]
  },
  {
   "cell_type": "code",
   "execution_count": 12,
   "id": "fbb246be-1a10-47bb-8717-21d709701448",
   "metadata": {},
   "outputs": [
    {
     "name": "stdout",
     "output_type": "stream",
     "text": [
      "55\n"
     ]
    }
   ],
   "source": [
    "# Start sum at zero\n",
    "list_sum = 0 \n",
    "\n",
    "for num in list1:\n",
    "    list_sum += num\n",
    "\n",
    "print(list_sum)"
   ]
  },
  {
   "cell_type": "code",
   "execution_count": 13,
   "id": "ea8ca77c-13e6-4193-bbfd-366b323f797c",
   "metadata": {},
   "outputs": [],
   "source": [
    "#------------------"
   ]
  },
  {
   "cell_type": "code",
   "execution_count": 14,
   "id": "39533299-baf1-448a-a164-f71b0267380b",
   "metadata": {},
   "outputs": [],
   "source": [
    "list2 = [(2,4),(6,8),(10,12)]"
   ]
  },
  {
   "cell_type": "code",
   "execution_count": 15,
   "id": "91b19657-1350-4588-b739-ef8df1cbec30",
   "metadata": {},
   "outputs": [
    {
     "name": "stdout",
     "output_type": "stream",
     "text": [
      "(2, 4)\n",
      "(6, 8)\n",
      "(10, 12)\n"
     ]
    }
   ],
   "source": [
    "for tup in list2:\n",
    "    print(tup)"
   ]
  },
  {
   "cell_type": "code",
   "execution_count": 16,
   "id": "4b823388-309f-4d25-adc3-675ab45c5c20",
   "metadata": {},
   "outputs": [
    {
     "name": "stdout",
     "output_type": "stream",
     "text": [
      "2\n",
      "6\n",
      "10\n"
     ]
    }
   ],
   "source": [
    "# Now with unpacking!\n",
    "for (t1,t2) in list2:\n",
    "    print(t1)"
   ]
  },
  {
   "cell_type": "code",
   "execution_count": null,
   "id": "0d965ff0-e9a5-4b1a-8006-34284713e1fe",
   "metadata": {},
   "outputs": [],
   "source": []
  }
 ],
 "metadata": {
  "kernelspec": {
   "display_name": "Python [conda env:base] *",
   "language": "python",
   "name": "conda-base-py"
  },
  "language_info": {
   "codemirror_mode": {
    "name": "ipython",
    "version": 3
   },
   "file_extension": ".py",
   "mimetype": "text/x-python",
   "name": "python",
   "nbconvert_exporter": "python",
   "pygments_lexer": "ipython3",
   "version": "3.13.5"
  }
 },
 "nbformat": 4,
 "nbformat_minor": 5
}
