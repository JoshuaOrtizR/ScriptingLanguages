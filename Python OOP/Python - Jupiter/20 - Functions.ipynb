{
 "cells": [
  {
   "cell_type": "code",
   "execution_count": 1,
   "id": "7d477196-75c7-4f2f-ae46-b5c4fb9ad170",
   "metadata": {},
   "outputs": [],
   "source": [
    "#def keyword"
   ]
  },
  {
   "cell_type": "code",
   "execution_count": 2,
   "id": "2a5a4c6b-35d3-4ef7-aa51-10cfff873385",
   "metadata": {},
   "outputs": [],
   "source": [
    "def name_of_function(arg1,arg2):\n",
    "    '''\n",
    "    This is where the function's Document String (docstring) goes.\n",
    "    When you call help() on your function it will be printed out.\n",
    "    '''\n",
    "    # Do stuff here\n",
    "    # Return desired result"
   ]
  },
  {
   "cell_type": "code",
   "execution_count": 6,
   "id": "1d64c230-1afd-4b96-82c0-ceaaf6ebe576",
   "metadata": {},
   "outputs": [],
   "source": [
    "def say_hello():\n",
    "    print('Hola!')"
   ]
  },
  {
   "cell_type": "code",
   "execution_count": 7,
   "id": "dc415422-93e4-4642-95bb-bba98211dfcd",
   "metadata": {},
   "outputs": [
    {
     "name": "stdout",
     "output_type": "stream",
     "text": [
      "Hola!\n"
     ]
    }
   ],
   "source": [
    "say_hello()"
   ]
  },
  {
   "cell_type": "code",
   "execution_count": 8,
   "id": "9af1eaac-5a35-475c-8390-c825eaa62913",
   "metadata": {},
   "outputs": [
    {
     "data": {
      "text/plain": [
       "<function __main__.say_hello()>"
      ]
     },
     "execution_count": 8,
     "metadata": {},
     "output_type": "execute_result"
    }
   ],
   "source": [
    "say_hello"
   ]
  },
  {
   "cell_type": "code",
   "execution_count": 9,
   "id": "4b114c69-76fe-4bce-a495-2193b62ac977",
   "metadata": {},
   "outputs": [],
   "source": [
    "#Accepting parameters (arguments)"
   ]
  },
  {
   "cell_type": "code",
   "execution_count": 10,
   "id": "aa2be385-d0e2-4044-9fd0-0e5b83d7334e",
   "metadata": {},
   "outputs": [],
   "source": [
    "def greeting(name):\n",
    "    print(f'Hello {name}')"
   ]
  },
  {
   "cell_type": "code",
   "execution_count": 12,
   "id": "3927c62a-46f6-42bf-a5bb-6fd7ad9bda1e",
   "metadata": {},
   "outputs": [
    {
     "name": "stdout",
     "output_type": "stream",
     "text": [
      "Hello Joshua!\n"
     ]
    }
   ],
   "source": [
    "greeting('Joshua!')"
   ]
  },
  {
   "cell_type": "code",
   "execution_count": 13,
   "id": "8e38f8d8-631f-432d-a2b9-68abca35d00c",
   "metadata": {},
   "outputs": [],
   "source": [
    "#Using return"
   ]
  },
  {
   "cell_type": "code",
   "execution_count": 14,
   "id": "3f483cbd-d683-455e-aeb8-c45eb2c3a208",
   "metadata": {},
   "outputs": [],
   "source": [
    "def add_num(num1,num2):\n",
    "    return num1+num2"
   ]
  },
  {
   "cell_type": "code",
   "execution_count": 15,
   "id": "cbac35f5-bb97-4239-9ebe-d28792546672",
   "metadata": {},
   "outputs": [
    {
     "data": {
      "text/plain": [
       "9"
      ]
     },
     "execution_count": 15,
     "metadata": {},
     "output_type": "execute_result"
    }
   ],
   "source": [
    "add_num(4,5)"
   ]
  },
  {
   "cell_type": "code",
   "execution_count": 16,
   "id": "e4d985d8-bf85-4158-a5af-47db2cf5cf4d",
   "metadata": {},
   "outputs": [],
   "source": [
    "# Can also save as variable due to return\n",
    "result = add_num(4,5)"
   ]
  },
  {
   "cell_type": "code",
   "execution_count": 17,
   "id": "ebfa01d5-d043-465d-abc3-16ec9ca44223",
   "metadata": {},
   "outputs": [
    {
     "name": "stdout",
     "output_type": "stream",
     "text": [
      "9\n"
     ]
    }
   ],
   "source": [
    "print(result)"
   ]
  },
  {
   "cell_type": "code",
   "execution_count": 18,
   "id": "2583c19a-69b3-4e3e-93ee-bc179f904d9a",
   "metadata": {},
   "outputs": [
    {
     "data": {
      "text/plain": [
       "'onetwo'"
      ]
     },
     "execution_count": 18,
     "metadata": {},
     "output_type": "execute_result"
    }
   ],
   "source": [
    "add_num('one','two')"
   ]
  },
  {
   "cell_type": "code",
   "execution_count": null,
   "id": "ab8615f6-461b-481c-87ef-1976f9dc47c6",
   "metadata": {},
   "outputs": [],
   "source": []
  }
 ],
 "metadata": {
  "kernelspec": {
   "display_name": "Python [conda env:base] *",
   "language": "python",
   "name": "conda-base-py"
  },
  "language_info": {
   "codemirror_mode": {
    "name": "ipython",
    "version": 3
   },
   "file_extension": ".py",
   "mimetype": "text/x-python",
   "name": "python",
   "nbconvert_exporter": "python",
   "pygments_lexer": "ipython3",
   "version": "3.13.5"
  }
 },
 "nbformat": 4,
 "nbformat_minor": 5
}
