{
 "cells": [
  {
   "cell_type": "code",
   "execution_count": null,
   "id": "17849ba8-6c89-4544-88c3-3aa11b9d29b7",
   "metadata": {},
   "outputs": [],
   "source": [
    "#IPython Writing a File"
   ]
  },
  {
   "cell_type": "code",
   "execution_count": 10,
   "id": "b61ba62c-a5c7-42b3-a244-cd1fd14cdbe3",
   "metadata": {},
   "outputs": [
    {
     "name": "stdout",
     "output_type": "stream",
     "text": [
      "Overwriting forensics.txt\n"
     ]
    }
   ],
   "source": [
    "%%writefile forensics.txt\n",
    "Greetings!, this file has been compromised."
   ]
  },
  {
   "cell_type": "code",
   "execution_count": 11,
   "id": "e1a6f3b7-2e73-47ce-94bc-119ac2ebbaa5",
   "metadata": {},
   "outputs": [],
   "source": [
    "my_file = open('forensics.txt')"
   ]
  },
  {
   "cell_type": "code",
   "execution_count": 12,
   "id": "0d1b1e94-d217-45be-8af7-6f0cb35e8d7c",
   "metadata": {},
   "outputs": [
    {
     "data": {
      "text/plain": [
       "'Greetings!, this file has been compromised.\\n'"
      ]
     },
     "execution_count": 12,
     "metadata": {},
     "output_type": "execute_result"
    }
   ],
   "source": [
    "# We can now read the file\n",
    "my_file.read()"
   ]
  },
  {
   "cell_type": "code",
   "execution_count": 13,
   "id": "5a70af8f-191a-4de6-80cd-7188183a4688",
   "metadata": {},
   "outputs": [
    {
     "data": {
      "text/plain": [
       "''"
      ]
     },
     "execution_count": 13,
     "metadata": {},
     "output_type": "execute_result"
    }
   ],
   "source": [
    "#  what if I try to read it again?\n",
    "my_file.read()"
   ]
  },
  {
   "cell_type": "code",
   "execution_count": 14,
   "id": "9b081d71-3995-4743-ae34-fee4d67b3b7a",
   "metadata": {},
   "outputs": [
    {
     "data": {
      "text/plain": [
       "0"
      ]
     },
     "execution_count": 14,
     "metadata": {},
     "output_type": "execute_result"
    }
   ],
   "source": [
    "# Seek to the start of file (index 0)\n",
    "my_file.seek(0)"
   ]
  },
  {
   "cell_type": "code",
   "execution_count": 15,
   "id": "ceea5ca0-ad02-44e2-9068-63be2b575fbe",
   "metadata": {},
   "outputs": [
    {
     "data": {
      "text/plain": [
       "'Greetings!, this file has been compromised.\\n'"
      ]
     },
     "execution_count": 15,
     "metadata": {},
     "output_type": "execute_result"
    }
   ],
   "source": [
    "# Now read again\n",
    "my_file.read()"
   ]
  },
  {
   "cell_type": "code",
   "execution_count": 16,
   "id": "d08888a5-be57-46e9-9554-9ffffbab3c74",
   "metadata": {},
   "outputs": [
    {
     "data": {
      "text/plain": [
       "['Greetings!, this file has been compromised.\\n']"
      ]
     },
     "execution_count": 16,
     "metadata": {},
     "output_type": "execute_result"
    }
   ],
   "source": [
    "# Read lines returns a list of the lines in the file\n",
    "my_file.seek(0)\n",
    "my_file.readlines()"
   ]
  },
  {
   "cell_type": "code",
   "execution_count": 17,
   "id": "b44bef4f-0085-49da-8d6f-f83a63a7f1e5",
   "metadata": {},
   "outputs": [],
   "source": [
    "my_file.close()"
   ]
  },
  {
   "cell_type": "code",
   "execution_count": null,
   "id": "a6277142-73f0-483b-b74a-0a6473f22fff",
   "metadata": {},
   "outputs": [],
   "source": []
  }
 ],
 "metadata": {
  "kernelspec": {
   "display_name": "Python [conda env:base] *",
   "language": "python",
   "name": "conda-base-py"
  },
  "language_info": {
   "codemirror_mode": {
    "name": "ipython",
    "version": 3
   },
   "file_extension": ".py",
   "mimetype": "text/x-python",
   "name": "python",
   "nbconvert_exporter": "python",
   "pygments_lexer": "ipython3",
   "version": "3.13.5"
  }
 },
 "nbformat": 4,
 "nbformat_minor": 5
}
