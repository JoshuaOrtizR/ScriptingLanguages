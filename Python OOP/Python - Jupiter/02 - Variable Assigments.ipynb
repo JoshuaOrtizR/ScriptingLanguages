{
 "cells": [
  {
   "cell_type": "code",
   "execution_count": 1,
   "id": "67f8417e-7b2c-4161-b511-f08574f07f86",
   "metadata": {},
   "outputs": [],
   "source": [
    "#Variable Assigments"
   ]
  },
  {
   "cell_type": "code",
   "execution_count": 2,
   "id": "e7cd5637-115d-4db5-8b7b-3f4148039f4c",
   "metadata": {},
   "outputs": [],
   "source": [
    "#Creating object called \"Computer\" + Number assigment (5)\n",
    "computer = 5 "
   ]
  },
  {
   "cell_type": "code",
   "execution_count": 3,
   "id": "48e1b2f7-c9d6-48a1-a8f1-626985d2f473",
   "metadata": {},
   "outputs": [
    {
     "data": {
      "text/plain": [
       "10"
      ]
     },
     "execution_count": 3,
     "metadata": {},
     "output_type": "execute_result"
    }
   ],
   "source": [
    "#Adding the Objects\n",
    "computer+computer"
   ]
  },
  {
   "cell_type": "code",
   "execution_count": 4,
   "id": "deff8baf-492f-4820-ba0a-2a33bdc849d6",
   "metadata": {},
   "outputs": [],
   "source": [
    "#Reassigment\n",
    "computer = 12"
   ]
  },
  {
   "cell_type": "code",
   "execution_count": 5,
   "id": "ba67b8b8-4a48-45c6-bfc9-7b8d39119bf2",
   "metadata": {},
   "outputs": [
    {
     "data": {
      "text/plain": [
       "12"
      ]
     },
     "execution_count": 5,
     "metadata": {},
     "output_type": "execute_result"
    }
   ],
   "source": [
    "#Checking\n",
    "computer"
   ]
  },
  {
   "cell_type": "code",
   "execution_count": null,
   "id": "ce777341-1119-484d-9d7a-ef49bb640f5f",
   "metadata": {},
   "outputs": [],
   "source": [
    "'''\n",
    "1. Names can not start with a number.\n",
    "2. There can be no spaces in the name, use _ instead.\n",
    "3. Can't use any of these symbols :'\",<>/?|\\()!@#$%^&*~-+\n",
    "4. It's considered best practice (PEP8) that names are lowercase.\n",
    "5. Avoid using the characters 'l' (lowercase letter el), 'O' (uppercase letter oh),\n",
    "    or 'I' (uppercase letter eye) as single character variable names.\n",
    "6. Avoid using words that have special meaning in Python like \"list\" and \"str\"\n",
    "'''"
   ]
  },
  {
   "cell_type": "code",
   "execution_count": 2,
   "id": "212df336-2d43-48e1-9e99-f65dee97dc43",
   "metadata": {},
   "outputs": [],
   "source": [
    "# Use object names to keep better track of what's going on in the code\n",
    "my_income = 200\n",
    "\n",
    "tax_rate = 0.2\n",
    "\n",
    "my_taxes = my_income*tax_rate"
   ]
  },
  {
   "cell_type": "code",
   "execution_count": 5,
   "id": "4a93ca0f-a98a-43f4-917c-264ff9191697",
   "metadata": {},
   "outputs": [
    {
     "data": {
      "text/plain": [
       "40.0"
      ]
     },
     "execution_count": 5,
     "metadata": {},
     "output_type": "execute_result"
    }
   ],
   "source": [
    "#show my Taxes:\n",
    "my_taxes"
   ]
  },
  {
   "cell_type": "code",
   "execution_count": null,
   "id": "c9612441-6d80-48d2-ad62-7f99f334de6a",
   "metadata": {},
   "outputs": [],
   "source": []
  }
 ],
 "metadata": {
  "kernelspec": {
   "display_name": "Python [conda env:base] *",
   "language": "python",
   "name": "conda-base-py"
  },
  "language_info": {
   "codemirror_mode": {
    "name": "ipython",
    "version": 3
   },
   "file_extension": ".py",
   "mimetype": "text/x-python",
   "name": "python",
   "nbconvert_exporter": "python",
   "pygments_lexer": "ipython3",
   "version": "3.13.5"
  }
 },
 "nbformat": 4,
 "nbformat_minor": 5
}
