{
 "cells": [
  {
   "cell_type": "code",
   "execution_count": 1,
   "id": "48719027-fad8-4c69-9b64-56db8723e297",
   "metadata": {},
   "outputs": [],
   "source": [
    "#Constructing Tuples"
   ]
  },
  {
   "cell_type": "code",
   "execution_count": 2,
   "id": "945f2aab-ad12-48b9-954e-6f16b7d740d1",
   "metadata": {},
   "outputs": [],
   "source": [
    "# Create a tuple\n",
    "my_t = (1,2,3)"
   ]
  },
  {
   "cell_type": "code",
   "execution_count": 3,
   "id": "c3050c22-bab4-4846-9af7-b48f2b9348a0",
   "metadata": {},
   "outputs": [
    {
     "data": {
      "text/plain": [
       "3"
      ]
     },
     "execution_count": 3,
     "metadata": {},
     "output_type": "execute_result"
    }
   ],
   "source": [
    "# Check len just like a list\n",
    "len(my_t)"
   ]
  },
  {
   "cell_type": "code",
   "execution_count": 4,
   "id": "047967c5-0e0d-438e-a6bc-63cdf37041d1",
   "metadata": {},
   "outputs": [
    {
     "data": {
      "text/plain": [
       "('one', 2)"
      ]
     },
     "execution_count": 4,
     "metadata": {},
     "output_type": "execute_result"
    }
   ],
   "source": [
    "#Mixing object types\n",
    "my_t = ('one',2)\n",
    "\n",
    "# Show\n",
    "my_t"
   ]
  },
  {
   "cell_type": "code",
   "execution_count": 6,
   "id": "b6a2bd90-023c-4d06-a224-2b5b19efd07a",
   "metadata": {},
   "outputs": [
    {
     "data": {
      "text/plain": [
       "2"
      ]
     },
     "execution_count": 6,
     "metadata": {},
     "output_type": "execute_result"
    }
   ],
   "source": [
    "# Slicing just like a list\n",
    "my_t[-1]"
   ]
  },
  {
   "cell_type": "code",
   "execution_count": 7,
   "id": "77634da8-c6ba-40ea-ae9b-c8c3b38e1e5d",
   "metadata": {},
   "outputs": [],
   "source": [
    "#Tuple Methods"
   ]
  },
  {
   "cell_type": "code",
   "execution_count": 9,
   "id": "dbe9173e-0cb3-428b-90d0-d01b267f992d",
   "metadata": {},
   "outputs": [
    {
     "data": {
      "text/plain": [
       "0"
      ]
     },
     "execution_count": 9,
     "metadata": {},
     "output_type": "execute_result"
    }
   ],
   "source": [
    "# Use .index to enter a value and return the index\n",
    "my_t.index('one')"
   ]
  },
  {
   "cell_type": "code",
   "execution_count": 11,
   "id": "1393a484-54be-4918-af3f-6b052f0b50ce",
   "metadata": {},
   "outputs": [
    {
     "data": {
      "text/plain": [
       "1"
      ]
     },
     "execution_count": 11,
     "metadata": {},
     "output_type": "execute_result"
    }
   ],
   "source": [
    "# Use .count to count the number of times a value appears\n",
    "my_t.count('one')"
   ]
  },
  {
   "cell_type": "code",
   "execution_count": null,
   "id": "726881ec-c3b1-4b14-88b1-8a6ad2875c52",
   "metadata": {},
   "outputs": [],
   "source": []
  }
 ],
 "metadata": {
  "kernelspec": {
   "display_name": "Python [conda env:base] *",
   "language": "python",
   "name": "conda-base-py"
  },
  "language_info": {
   "codemirror_mode": {
    "name": "ipython",
    "version": 3
   },
   "file_extension": ".py",
   "mimetype": "text/x-python",
   "name": "python",
   "nbconvert_exporter": "python",
   "pygments_lexer": "ipython3",
   "version": "3.13.5"
  }
 },
 "nbformat": 4,
 "nbformat_minor": 5
}
