{
 "cells": [
  {
   "cell_type": "code",
   "execution_count": 1,
   "id": "39e53636-c316-4dde-8701-8b4fbfb9d118",
   "metadata": {},
   "outputs": [],
   "source": [
    "#String Formatting"
   ]
  },
  {
   "cell_type": "code",
   "execution_count": 3,
   "id": "60158fa8-3a85-4f08-a682-7f7b744e8c2b",
   "metadata": {},
   "outputs": [
    {
     "name": "stdout",
     "output_type": "stream",
     "text": [
      "I'm going to inject something here.\n"
     ]
    }
   ],
   "source": [
    "#Formatting with Placeholders\n",
    "#using %s to inject strings into print statements. The modulo % is referred to as a : string formatting operator\n",
    "print(\"I'm going to inject %s here.\" %'something')"
   ]
  },
  {
   "cell_type": "code",
   "execution_count": 4,
   "id": "42b211b7-5ea6-4788-8bb8-7419cbbc0e08",
   "metadata": {},
   "outputs": [
    {
     "name": "stdout",
     "output_type": "stream",
     "text": [
      "I'm going to inject some text here, and more text here.\n"
     ]
    }
   ],
   "source": [
    "#Passing multiple items by placing them inside a tuple after the % operator\n",
    "print(\"I'm going to inject %s text here, and %s text here.\" %('some','more'))"
   ]
  },
  {
   "cell_type": "code",
   "execution_count": 10,
   "id": "024cc530-9550-424d-9e00-ce1f676a14b5",
   "metadata": {},
   "outputs": [
    {
     "name": "stdout",
     "output_type": "stream",
     "text": [
      "I'll walk you I'm a throu, my Cybersecurity Engineer journey as a.\n"
     ]
    }
   ],
   "source": [
    "#Passing Variables Names\n",
    "a,b = \"I'm a\",'Cybersecurity Engineer'\n",
    "print(\"I'll walk you %s throu, my %s journey as a.\"%(a,b))"
   ]
  },
  {
   "cell_type": "code",
   "execution_count": 24,
   "id": "e6ec8c3b-e2e9-40cd-921e-564dc4f33043",
   "metadata": {},
   "outputs": [
    {
     "name": "stdout",
     "output_type": "stream",
     "text": [
      "He said his name was Joshua.\n",
      "He said his name was 'Joshua'.\n",
      "\n",
      "\n",
      "I once caught a fish this \tbig.\n",
      "I once caught a fish 'this big'.\n"
     ]
    }
   ],
   "source": [
    "#Format conversion methods.\n",
    "print('He said his name was %s.' %'Joshua')\n",
    "print('He said his name was %r.' %'Joshua')\n",
    "print('\\n')\n",
    "#two methods %s and %r convert any python object to a string using two separate methods: \n",
    "#str() and repr(). including quotation marks and any escape characters.\n",
    "\n",
    "#As another example, \\t inserts a tab into a string.\n",
    "print('I once caught a fish %s.' %'this \\tbig')\n",
    "print('I once caught a fish %r.' % 'this big')\n",
    "\n",
    "#The %s operator converts whatever it sees into a string, including integers and floats. \n",
    "#The %d operator converts numbers to integers first, without rounding."
   ]
  },
  {
   "cell_type": "code",
   "execution_count": 25,
   "id": "9afd6556-d3a0-4bb8-861f-a9e6f5a48bdd",
   "metadata": {},
   "outputs": [
    {
     "name": "stdout",
     "output_type": "stream",
     "text": [
      "I wrote 3.75 programs today.\n",
      "I wrote 3 programs today.\n"
     ]
    }
   ],
   "source": [
    "#The %s operator converts whatever it sees into a string, including integers and floats. \n",
    "#The %d operator converts numbers to integers first, without rounding.\n",
    "print('I wrote %s programs today.' %3.75)\n",
    "print('I wrote %d programs today.' %3.75)   "
   ]
  },
  {
   "cell_type": "code",
   "execution_count": null,
   "id": "d90e8c22-2b09-4834-8f0e-a8d7a40fa950",
   "metadata": {},
   "outputs": [],
   "source": []
  }
 ],
 "metadata": {
  "kernelspec": {
   "display_name": "Python [conda env:base] *",
   "language": "python",
   "name": "conda-base-py"
  },
  "language_info": {
   "codemirror_mode": {
    "name": "ipython",
    "version": 3
   },
   "file_extension": ".py",
   "mimetype": "text/x-python",
   "name": "python",
   "nbconvert_exporter": "python",
   "pygments_lexer": "ipython3",
   "version": "3.13.5"
  }
 },
 "nbformat": 4,
 "nbformat_minor": 5
}
