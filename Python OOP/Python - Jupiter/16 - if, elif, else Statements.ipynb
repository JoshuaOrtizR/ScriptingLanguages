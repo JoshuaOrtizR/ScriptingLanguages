{
 "cells": [
  {
   "cell_type": "code",
   "execution_count": 1,
   "id": "0ee421dd-4e04-40ae-a3e8-177dce69e61c",
   "metadata": {},
   "outputs": [],
   "source": [
    "#if, elif, else Statements"
   ]
  },
  {
   "cell_type": "code",
   "execution_count": 2,
   "id": "2f264c5a-494f-4150-b24b-ae10893c1e3c",
   "metadata": {},
   "outputs": [
    {
     "name": "stdout",
     "output_type": "stream",
     "text": [
      "This is fun!\n"
     ]
    }
   ],
   "source": [
    "if True:\n",
    "    print('This is fun!')"
   ]
  },
  {
   "cell_type": "code",
   "execution_count": 13,
   "id": "6679daf1-6ffa-42dc-b91a-67fd5c7b69ce",
   "metadata": {},
   "outputs": [
    {
     "name": "stdout",
     "output_type": "stream",
     "text": [
      "This will print any message saying  x is not true\n"
     ]
    }
   ],
   "source": [
    "x = False\n",
    "\n",
    "if x:\n",
    "    print('x was True!')\n",
    "else:\n",
    "    print('This will print any message saying  x is not true')"
   ]
  },
  {
   "cell_type": "code",
   "execution_count": 4,
   "id": "f33c15a2-64d2-4cb4-8a14-b01b0707dc44",
   "metadata": {},
   "outputs": [],
   "source": [
    "#Multiple Branches"
   ]
  },
  {
   "cell_type": "code",
   "execution_count": 10,
   "id": "c9f920da-92f2-4eb5-b7f8-a5b7ba0bd344",
   "metadata": {},
   "outputs": [
    {
     "name": "stdout",
     "output_type": "stream",
     "text": [
      "Where are you?\n"
     ]
    }
   ],
   "source": [
    "loc = 'My Store'\n",
    "\n",
    "if loc == 'Auto Shop':\n",
    "    print('Welcome to my house!')\n",
    "elif loc == 'Bank':\n",
    "    print('Welcome to my Store!')\n",
    "else:\n",
    "    print('Where are you?')"
   ]
  },
  {
   "cell_type": "code",
   "execution_count": 11,
   "id": "d75232fd-a063-4ada-85fb-f38d1e60fcf9",
   "metadata": {},
   "outputs": [
    {
     "name": "stdout",
     "output_type": "stream",
     "text": [
      "Welcome Joshu!\n"
     ]
    }
   ],
   "source": [
    "person = 'Joshua'\n",
    "\n",
    "if person == 'Joshua':\n",
    "    print('Welcome Joshua!')\n",
    "else:\n",
    "    print(\"Welcome, what's your name?\")"
   ]
  },
  {
   "cell_type": "code",
   "execution_count": 12,
   "id": "1d9c0aa0-ec1a-4839-98e3-b8ebcc00221e",
   "metadata": {},
   "outputs": [
    {
     "name": "stdout",
     "output_type": "stream",
     "text": [
      "Welcome Chimuela!\n"
     ]
    }
   ],
   "source": [
    "person = 'Chimuela'\n",
    "\n",
    "if person == 'Chimuela':\n",
    "    print('Welcome Chimuela!')\n",
    "elif person =='Chimuela':\n",
    "    print('Welcome Chimuela!')\n",
    "else:\n",
    "    print(\"Welcome, what's your name?\")"
   ]
  },
  {
   "cell_type": "code",
   "execution_count": null,
   "id": "4c282da6-b4e2-445d-984d-0973f0496cd4",
   "metadata": {},
   "outputs": [],
   "source": []
  }
 ],
 "metadata": {
  "kernelspec": {
   "display_name": "Python [conda env:base] *",
   "language": "python",
   "name": "conda-base-py"
  },
  "language_info": {
   "codemirror_mode": {
    "name": "ipython",
    "version": 3
   },
   "file_extension": ".py",
   "mimetype": "text/x-python",
   "name": "python",
   "nbconvert_exporter": "python",
   "pygments_lexer": "ipython3",
   "version": "3.13.5"
  }
 },
 "nbformat": 4,
 "nbformat_minor": 5
}
