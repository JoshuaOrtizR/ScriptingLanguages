{
 "cells": [
  {
   "cell_type": "code",
   "execution_count": 1,
   "id": "9ebd37ae-2a3c-4ec4-8649-933f95fb0307",
   "metadata": {},
   "outputs": [],
   "source": [
    "#Formatted String Literals (f-strings)"
   ]
  },
  {
   "cell_type": "code",
   "execution_count": 2,
   "id": "e7b475ab-1eb0-42c8-8c2a-fcc7b4333798",
   "metadata": {},
   "outputs": [
    {
     "name": "stdout",
     "output_type": "stream",
     "text": [
      "He said his name is Joshua.\n"
     ]
    }
   ],
   "source": [
    "name = 'Joshua'\n",
    "\n",
    "print(f\"He said his name is {name}.\")"
   ]
  },
  {
   "cell_type": "code",
   "execution_count": 3,
   "id": "c27de046-0fd4-422d-8bca-f597937ac879",
   "metadata": {},
   "outputs": [
    {
     "name": "stdout",
     "output_type": "stream",
     "text": [
      "He said his name is 'Joshua'\n"
     ]
    }
   ],
   "source": [
    "#Pass !r to get the string representation:\n",
    "print(f\"He said his name is {name!r}\")"
   ]
  },
  {
   "cell_type": "code",
   "execution_count": 5,
   "id": "bde86066-35a4-4d60-a05a-88c74edad6bb",
   "metadata": {},
   "outputs": [
    {
     "name": "stdout",
     "output_type": "stream",
     "text": [
      "My 10 character, four decimal number is:   23.4568\n",
      "My 10 character, four decimal number is:   23.4568\n"
     ]
    }
   ],
   "source": [
    "#Float formatting follows \"result: {value:{width}.{precision}}\"\n",
    "\n",
    "num = 23.45678\n",
    "print(\"My 10 character, four decimal number is:{0:10.4f}\".format(num))\n",
    "print(f\"My 10 character, four decimal number is:{num:{10}.{6}}\")"
   ]
  },
  {
   "cell_type": "code",
   "execution_count": 6,
   "id": "f758e011-2505-4270-bad0-e9804f390331",
   "metadata": {},
   "outputs": [
    {
     "name": "stdout",
     "output_type": "stream",
     "text": [
      "My 10 character, four decimal number is:   23.4500\n",
      "My 10 character, four decimal number is:     23.45\n"
     ]
    }
   ],
   "source": [
    "# f-strings, precision refers to the total number of digits, not just those following the decimal. This fits more closely with scientific notation and statistical analysis.\n",
    "#Unfortunately, f-strings do not pad to the right of the decimal, even if precision allows it:\n",
    "\n",
    "num = 23.45\n",
    "print(\"My 10 character, four decimal number is:{0:10.4f}\".format(num))\n",
    "print(f\"My 10 character, four decimal number is:{num:{10}.{6}}\")"
   ]
  },
  {
   "cell_type": "code",
   "execution_count": 7,
   "id": "1e94f443-e0e9-4c3f-8445-00cbf0ae014f",
   "metadata": {},
   "outputs": [
    {
     "name": "stdout",
     "output_type": "stream",
     "text": [
      "My 10 character, four decimal number is:   23.4500\n",
      "My 10 character, four decimal number is:     23.45\n"
     ]
    }
   ],
   "source": [
    "num = 23.45\n",
    "print(\"My 10 character, four decimal number is:{0:10.4f}\".format(num))\n",
    "print(f\"My 10 character, four decimal number is:{num:{10}.{6}}\")"
   ]
  },
  {
   "cell_type": "code",
   "execution_count": 8,
   "id": "f475656c-e045-41f4-bf7b-79dab406f825",
   "metadata": {},
   "outputs": [
    {
     "name": "stdout",
     "output_type": "stream",
     "text": [
      "My 10 character, four decimal number is:   23.4500\n",
      "My 10 character, four decimal number is:   23.4500\n"
     ]
    }
   ],
   "source": [
    "num = 23.45\n",
    "print(\"My 10 character, four decimal number is:{0:10.4f}\".format(num))\n",
    "print(f\"My 10 character, four decimal number is:{num:10.4f}\")"
   ]
  },
  {
   "cell_type": "code",
   "execution_count": null,
   "id": "d52fc11a-3a41-411a-8d8c-59b5feef313f",
   "metadata": {},
   "outputs": [],
   "source": []
  }
 ],
 "metadata": {
  "kernelspec": {
   "display_name": "Python [conda env:base] *",
   "language": "python",
   "name": "conda-base-py"
  },
  "language_info": {
   "codemirror_mode": {
    "name": "ipython",
    "version": 3
   },
   "file_extension": ".py",
   "mimetype": "text/x-python",
   "name": "python",
   "nbconvert_exporter": "python",
   "pygments_lexer": "ipython3",
   "version": "3.13.5"
  }
 },
 "nbformat": 4,
 "nbformat_minor": 5
}
