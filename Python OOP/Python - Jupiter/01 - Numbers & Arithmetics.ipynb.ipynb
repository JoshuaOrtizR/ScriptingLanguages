{
 "cells": [
  {
   "cell_type": "code",
   "execution_count": 21,
   "id": "6646100b-b923-483c-afe6-6aafa25c811f",
   "metadata": {},
   "outputs": [
    {
     "data": {
      "text/plain": [
       "67"
      ]
     },
     "execution_count": 21,
     "metadata": {},
     "output_type": "execute_result"
    }
   ],
   "source": [
    "#Addition\n",
    "14+53 #Shift + Enter"
   ]
  },
  {
   "cell_type": "code",
   "execution_count": 13,
   "id": "fa20726d-979d-42d4-842d-e80e1a97fc39",
   "metadata": {},
   "outputs": [
    {
     "data": {
      "text/plain": [
       "6"
      ]
     },
     "execution_count": 13,
     "metadata": {},
     "output_type": "execute_result"
    }
   ],
   "source": [
    "#Substraction\n",
    "12-6"
   ]
  },
  {
   "cell_type": "code",
   "execution_count": 11,
   "id": "09b46281-e03c-4bb5-9051-72190a9b3f61",
   "metadata": {},
   "outputs": [
    {
     "data": {
      "text/plain": [
       "40"
      ]
     },
     "execution_count": 11,
     "metadata": {},
     "output_type": "execute_result"
    }
   ],
   "source": [
    "#Multiplication\n",
    "5*8"
   ]
  },
  {
   "cell_type": "code",
   "execution_count": 15,
   "id": "567c999b-aa5c-4d2a-8aa2-bca2bea2c3f2",
   "metadata": {},
   "outputs": [
    {
     "data": {
      "text/plain": [
       "6.0"
      ]
     },
     "execution_count": 15,
     "metadata": {},
     "output_type": "execute_result"
    }
   ],
   "source": [
    "#Division\n",
    "12/2"
   ]
  },
  {
   "cell_type": "code",
   "execution_count": 17,
   "id": "42ba68d5-7b03-485b-a1bb-a4f31a044499",
   "metadata": {},
   "outputs": [
    {
     "data": {
      "text/plain": [
       "3"
      ]
     },
     "execution_count": 17,
     "metadata": {},
     "output_type": "execute_result"
    }
   ],
   "source": [
    "#Floor Division\n",
    "15//5"
   ]
  },
  {
   "cell_type": "code",
   "execution_count": 18,
   "id": "045d92fe-d10e-4f6b-9547-7e8447b666ad",
   "metadata": {},
   "outputs": [
    {
     "data": {
      "text/plain": [
       "3"
      ]
     },
     "execution_count": 18,
     "metadata": {},
     "output_type": "execute_result"
    }
   ],
   "source": [
    "#Module\n",
    "7%4"
   ]
  },
  {
   "cell_type": "code",
   "execution_count": 20,
   "id": "8b7b1020-c12d-4f50-80a8-a3d462fe5392",
   "metadata": {},
   "outputs": [
    {
     "data": {
      "text/plain": [
       "8"
      ]
     },
     "execution_count": 20,
     "metadata": {},
     "output_type": "execute_result"
    }
   ],
   "source": [
    "#Powers\n",
    "2**3"
   ]
  },
  {
   "cell_type": "code",
   "execution_count": 24,
   "id": "b3e56c5a-f026-497d-93f9-c6fbfab994bb",
   "metadata": {},
   "outputs": [
    {
     "data": {
      "text/plain": [
       "96"
      ]
     },
     "execution_count": 24,
     "metadata": {},
     "output_type": "execute_result"
    }
   ],
   "source": [
    "#Operations Order\n",
    "2 + 10 * 9 + 4"
   ]
  },
  {
   "cell_type": "code",
   "execution_count": 23,
   "id": "f6dc9471-792f-436c-adf7-060dc0526389",
   "metadata": {},
   "outputs": [
    {
     "data": {
      "text/plain": [
       "168"
      ]
     },
     "execution_count": 23,
     "metadata": {},
     "output_type": "execute_result"
    }
   ],
   "source": [
    "#Using Parentheses to Specify Orders\n",
    "(2+10) * (10+4)"
   ]
  },
  {
   "cell_type": "code",
   "execution_count": null,
   "id": "e84b88fe-66ed-4b69-bed5-69a9448699a5",
   "metadata": {},
   "outputs": [],
   "source": []
  }
 ],
 "metadata": {
  "kernelspec": {
   "display_name": "Python [conda env:base] *",
   "language": "python",
   "name": "conda-base-py"
  },
  "language_info": {
   "codemirror_mode": {
    "name": "ipython",
    "version": 3
   },
   "file_extension": ".py",
   "mimetype": "text/x-python",
   "name": "python",
   "nbconvert_exporter": "python",
   "pygments_lexer": "ipython3",
   "version": "3.13.5"
  }
 },
 "nbformat": 4,
 "nbformat_minor": 5
}
